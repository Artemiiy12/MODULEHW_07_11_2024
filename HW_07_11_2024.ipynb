{
 "cells": [
  {
   "cell_type": "code",
   "execution_count": 1,
   "metadata": {},
   "outputs": [
    {
     "name": "stdout",
     "output_type": "stream",
     "text": [
      "Список покупок после добавления:\n",
      "{'Хлеб': 2, 'Молоко': 1, 'Яйца': 10}\n",
      "nСписок покупок после удаления молока:\n",
      "{'Хлеб': 2, 'Яйца': 10}\n",
      "nИтоговый список покупок:\n",
      "{'Хлеб': 2, 'Яйца': 7}\n"
     ]
    }
   ],
   "source": [
    "from shopping_list import add_item, remove_item, edit_quantity, view_list\n",
    "\n",
    "add_item(\"Хлеб\", 2)\n",
    "add_item(\"Молоко\", 1)\n",
    "add_item(\"Яйца\", 10)\n",
    "\n",
    "print(\"Список покупок после добавления:\")\n",
    "print(view_list())\n",
    "\n",
    "remove_item(\"Молоко\")\n",
    "\n",
    "print(\"nСписок покупок после удаления молока:\")\n",
    "print(view_list())\n",
    "\n",
    "edit_quantity(\"Яйца\", 7)\n",
    "\n",
    "print(\"nИтоговый список покупок:\")\n",
    "print(view_list())"
   ]
  },
  {
   "cell_type": "code",
   "execution_count": null,
   "metadata": {},
   "outputs": [],
   "source": []
  }
 ],
 "metadata": {
  "kernelspec": {
   "display_name": "Python 3",
   "language": "python",
   "name": "python3"
  },
  "language_info": {
   "codemirror_mode": {
    "name": "ipython",
    "version": 3
   },
   "file_extension": ".py",
   "mimetype": "text/x-python",
   "name": "python",
   "nbconvert_exporter": "python",
   "pygments_lexer": "ipython3",
   "version": "3.12.6"
  }
 },
 "nbformat": 4,
 "nbformat_minor": 2
}
